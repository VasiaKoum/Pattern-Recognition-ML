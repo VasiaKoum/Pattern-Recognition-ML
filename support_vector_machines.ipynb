{
  "nbformat": 4,
  "nbformat_minor": 0,
  "metadata": {
    "colab": {
      "name": "support_vector_machines.ipynb",
      "provenance": [],
      "collapsed_sections": [],
      "include_colab_link": true
    },
    "kernelspec": {
      "display_name": "Python 3",
      "language": "python",
      "name": "python3"
    },
    "language_info": {
      "codemirror_mode": {
        "name": "ipython",
        "version": 3
      },
      "file_extension": ".py",
      "mimetype": "text/x-python",
      "name": "python",
      "nbconvert_exporter": "python",
      "pygments_lexer": "ipython3",
      "version": "3.8.0"
    }
  },
  "cells": [
    {
      "cell_type": "markdown",
      "metadata": {
        "id": "view-in-github",
        "colab_type": "text"
      },
      "source": [
        "<a href=\"https://colab.research.google.com/github/VasiaKoum/Pattern-Recognition-ML/blob/main/support_vector_machines.ipynb\" target=\"_parent\"><img src=\"https://colab.research.google.com/assets/colab-badge.svg\" alt=\"Open In Colab\"/></a>"
      ]
    },
    {
      "cell_type": "markdown",
      "metadata": {
        "id": "a63bXjKFI-2f"
      },
      "source": [
        "ΕΠ08 Αναγνώριση Προτύπων – Μηχανική Μάθηση<br>\n",
        "# 3η Εργασία: Support Vector Machines\n",
        "__ΚΟΥΜΑΡΕΛΑ ΒΑΣΙΛΙΚΗ 1115201600074__<br><br>\n",
        "Σε αυτή την εργασία καλείστε να διερευνήσετε την επίδοση των support vector machines\n",
        "(SVMs) στην ταξινόμηση εικόνων, και πιο συγκεκριμένα στην ταξινόμηση εικόνων οι οποίες\n",
        "απεικονίζουν χειρόγραφα ψηφία."
      ]
    },
    {
      "cell_type": "markdown",
      "metadata": {
        "id": "q2TnEO9IJhr3"
      },
      "source": [
        "## Σύνολο Δεδομένων (Dataset)\n",
        "*Καλείστε να διερευνήσετε την επίδοση των support vector machines στο πρόβλημα της\n",
        "αναγνώρισης χειρόγραφων ψηφίων. Για το σκοπό αυτό θα χρησιμοποιήσετε το σύνολο\n",
        "δεδομένων MNIST και υλοποιήσεις αλγορίθμων της βιβλιοθήκης scikit-learn. Το σύνολο\n",
        "δεδομένων MNIST αποτελείται από 70000 εικόνες χειρόγραφων ψηφίων και, τυπικά,\n",
        "χωρίζεται σε τρία υποσύνολα: training set (50000 εικόνες), validation set (10000 εικόνες),\n",
        "test set (10000 εικόνες). Κάθε εικόνα έχει διάσταση 28 x 28 pixels και απεικονίζει ένα\n",
        "χειρόγραφο ψηφίο*\n"
      ]
    },
    {
      "cell_type": "code",
      "metadata": {
        "id": "1X9QVR8kJ5Vw"
      },
      "source": [
        "from keras.datasets import mnist\n",
        "from sklearn.pipeline import Pipeline\n",
        "from sklearn.model_selection import GridSearchCV\n",
        "from sklearn.preprocessing import StandardScaler, Normalizer\n",
        "from sklearn.model_selection import KFold\n",
        "from sklearn.decomposition import PCA\n",
        "from sklearn.svm import SVC\n",
        "import matplotlib.pyplot as plt\n",
        "import numpy as np\n",
        "# from google.colab import files\n",
        "import pandas as pd\n",
        "import joblib\n",
        "import time\n",
        "\n",
        "(x_train, y_train), (x_test, y_test) = mnist.load_data()\n",
        "print(\"Train size set: \", len(x_train), \"- Test size set: \", len(x_test))"
      ],
      "execution_count": null,
      "outputs": []
    },
    {
      "cell_type": "markdown",
      "metadata": {
        "id": "HDJoaVo2JncW"
      },
      "source": [
        "\n",
        "\n",
        "*Ζητείται να φορτώσετε τα δεδομένα του συνόλου MNIST και να μετατρέψετε κάθε\n",
        "εικόνα σε μορφή διανύσματος διάστασης 28 x 28 = 784. Στη συνέχεια\n",
        "κανονικοποιήστε (normalize) τα δεδομένα στο διάστημα [0,1].*\n",
        "<br>\n",
        "<br>\n",
        "Η κανονικοποίηση θα γίνει με τη χρήση του Normalizer από τη βιβλιοθήκη της sklearn. Μετατρέπουμε τα δεδομένα σε 2D (60000, 784) ώστε να τα χρησιμοποιήσουμε χωρίς σφάλμα στο training\n",
        "\n"
      ]
    },
    {
      "cell_type": "code",
      "metadata": {
        "id": "2QaApmc4J55E"
      },
      "source": [
        "def dim_3dto2d(dataset):\n",
        "    dataset_reshaped = dataset\n",
        "    if len(dataset.shape) == 3:\n",
        "        samples, x1, x2 = dataset.shape\n",
        "        dataset_reshaped = dataset.reshape((samples,x1*x2))\n",
        "    return dataset_reshaped\n",
        "\n",
        "x_train = dim_3dto2d(x_train)\n",
        "x_test = dim_3dto2d(x_test)"
      ],
      "execution_count": null,
      "outputs": []
    },
    {
      "cell_type": "markdown",
      "metadata": {
        "id": "HWyloApGJqj7"
      },
      "source": [
        "## Ταξινομητής SVM\n",
        "*Στα SVMs υπάρχουν διάφορες επιλογές που μπορεί να επηρεάσουν την απόδοση\n",
        "τους σε προβλήματα ταξινόμησης. Παραδείγματα τέτοιων επιλογών αποτελούν ο\n",
        "τύπος του πυρήνα (kernel) και οι τιμές των διάφορων παραμέτρων. Ζητείται να\n",
        "εξετάσετε την επίδοση των SVMs για διαφορετικές τιμές παραμέτρων/πυρήνων ώστε\n",
        "να καθορίσετε το συνδυασμό παραμέτρων/πυρήνων που οδηγούν στη μεγαλύτερη\n",
        "ακρίβεια ταξινόμησης. Για αυτό το πείραμα να χρησιμοποιήσετε 60000 εικόνες για\n",
        "εκπαίδευση (training) και 10000 παραδείγματα για δοκιμές (test). Να αναφέρετε τις\n",
        "τιμές των παραμέτρων, δηλαδή τύπο πυρήνα, τιμές των C και gamma που οδηγούν\n",
        "στις καλύτερες επιδόσεις τόσο στο σύνολο εκπαίδευσης όσο και στο σύνολο δοκιμής\n",
        "(test set).*\n"
      ]
    },
    {
      "cell_type": "code",
      "metadata": {
        "id": "X4qZ1NwsZNI8"
      },
      "source": [
        "def data_subset(dataset, per_train, per_test):\n",
        "    train_len = int(len(dataset[0])*per_train/100)\n",
        "    test_len = int(len(dataset[1])*per_test/100)\n",
        "    x_train = dataset[0][:train_len]\n",
        "    x_test = dataset[1][:test_len]\n",
        "    y_train = dataset[2][:train_len]\n",
        "    y_test = dataset[3][:test_len]\n",
        "    return x_train, x_test, y_train, y_test\n",
        "\n",
        "def SVM_classifier(dataset=[], per_train=100, per_test=100, preproc_method=\"Normalizer\", params=[]):\n",
        "    if preproc_method != \"Normalizer\" and preproc_method != \"Scaler\" or not (1 <= per_train <= 100) or not (1 <= per_test <= 100):\n",
        "        print(\"Run with: preproc_method = 'Normalizer' or 'Scaler', per_train in [1,100], per_test in [1,100]\")\n",
        "        return\n",
        "    start = time.time()\n",
        "\n",
        "    if len(dataset) != 4:\n",
        "        print(\"Run with dataset=[x_train, x_test, y_train, y_test]\")\n",
        "        return\n",
        "\n",
        "    x_train, x_test, y_train, y_test = data_subset(dataset, per_train, per_test)\n",
        "    print(\"Training set size: \", len(x_train), \" - Test set size: \", len(x_test))\n",
        "\n",
        "    transformer = Normalizer()\n",
        "    if preproc_method == \"Scaler\":\n",
        "        transformer = StandardScaler()\n",
        "    pipeline = Pipeline(steps=[('transformer', transformer), ('SVM', SVC())])\n",
        "    parameters = params\n",
        "    cv = KFold(n_splits=5, shuffle=True, random_state=42)\n",
        "    grid = GridSearchCV(pipeline, param_grid=parameters, cv=cv)\n",
        "    grid.fit(x_train, y_train)\n",
        "    print(\"Score = %3.2f\" %(grid.score(x_test, y_test)))\n",
        "    y_pred = grid.predict(x_test)\n",
        "\n",
        "    exe_time = (time.time() - start)/60\n",
        "    print(\"Execution time\", exe_time)\n",
        "    dataset_subset = [x_train, x_test, y_train, y_test, y_pred]\n",
        "    return grid, dataset_subset"
      ],
      "execution_count": null,
      "outputs": []
    },
    {
      "cell_type": "markdown",
      "metadata": {
        "id": "9OCCjqHilkBs"
      },
      "source": [
        "Επιλογή ποσοστού για το training & testing του SVM επί του συνόλου δεδομένων:\n",
        "$per$_ $train$, $per$_ $test$\n",
        "<br>\n",
        "π.χ. $per$_ $train=20$ τότε θα χρησιμοποιηθούν $60000*20/100=12000$"
      ]
    },
    {
      "cell_type": "code",
      "metadata": {
        "id": "qQMi9dAImOTz"
      },
      "source": [
        "set_per_train = 100\n",
        "set_per_test = 100"
      ],
      "execution_count": null,
      "outputs": []
    },
    {
      "cell_type": "markdown",
      "metadata": {
        "id": "8bvHi7Uey3SC"
      },
      "source": [
        "Θα χρησιμοποιηθούν οι παρακάτω συναρτήσεις (για kernels):<br>\n",
        "* Linear Function $K(x_i, x_j)=x_i*x_j$\n",
        "* Polynomial(poly) Function $K(x_i, x_j)=(1+x_i*x_j)^d$\n",
        "* Gaussian radial basis Function(rbf) Function $K(x_i, x_j)=exp(-\\gamma ||x_i-x_j||)^d$\n",
        "<br><br>\n",
        "Η παράμετρος gamma $(\\gamma)$ χρησιμοποιείται μόνο για την Gaussian radial basis Function."
      ]
    },
    {
      "cell_type": "code",
      "metadata": {
        "colab": {
          "base_uri": "https://localhost:8080/"
        },
        "id": "QqC_69qLdHPc",
        "outputId": "e0ea282d-4ce6-424e-85ec-451b26db8022"
      },
      "source": [
        "dataset_ = [x_train, x_test, y_train, y_test]\n",
        "\n",
        "# parameters = [ {\"SVM__kernel\": [\"linear\", \"poly\"], \"SVM__C\": [1, 10, 100, 1000]}, \n",
        "#            {\"SVM__kernel\": [\"rbf\"], \"SVM__C\": [1, 10, 100, 1000], \"SVM__gamma\": [10,1,0.1,0.01]} ]\n",
        "\n",
        "parameters = [ {\"SVM__kernel\": [\"linear\", \"poly\"], \"SVM__C\": [0.1, 1, 10, 100]}]\n",
        "\n",
        "grid, dataset_subset = SVM_classifier(dataset=dataset_, per_train=set_per_train, per_test=set_per_test, params=parameters)\n",
        "joblib.dump(grid, 'mnist_svm_classifier.pkl')\n",
        "# files.download('mnist_svm_classifier.pkl')"
      ],
      "execution_count": null,
      "outputs": [
        {
          "output_type": "stream",
          "text": [
            "Training set size:  60000  - Test set size:  10000\n",
            "Score = 0.99\n",
            "Execution time 170.43815218210221\n"
          ],
          "name": "stdout"
        },
        {
          "output_type": "execute_result",
          "data": {
            "text/plain": [
              "['mnist_svm_classifier.pkl']"
            ]
          },
          "metadata": {
            "tags": []
          },
          "execution_count": 15
        }
      ]
    },
    {
      "cell_type": "markdown",
      "metadata": {
        "id": "jtGRTui1vGBl"
      },
      "source": [
        "Θα γίνει εκπαίδευση του SVM classifier και το GridSearchCV θα αποθηκευτεί σε αρχείο pickle"
      ]
    },
    {
      "cell_type": "code",
      "metadata": {
        "colab": {
          "base_uri": "https://localhost:8080/",
          "height": 97
        },
        "id": "BPxcyMAyupgT",
        "outputId": "c4b5ad91-73d7-45e1-d9cf-e052b5aadf8c"
      },
      "source": [
        "grid = joblib.load(\"mnist_svm_classifier.pkl\")\n",
        "print(\"Best score\", grid.best_score_,\"with best parameters\", grid.best_params_)\n",
        "df = pd.DataFrame(grid.cv_results_)\n",
        "if 'param_SVM__gamma' in df.columns:\n",
        "    df = df[['param_SVM__kernel', 'param_SVM__C', 'param_SVM__gamma', 'mean_test_score', 'mean_fit_time', 'mean_score_time']]\n",
        "else:\n",
        "    df = df[['param_SVM__kernel', 'param_SVM__C', 'mean_test_score', 'mean_fit_time', 'mean_score_time']]\n",
        "df.sort_values(by=['mean_test_score'], ascending=False)"
      ],
      "execution_count": null,
      "outputs": [
        {
          "output_type": "stream",
          "text": [
            "Best score 0.9851666666666666 with best parameters {'SVM__C': 10, 'SVM__kernel': 'poly'}\n"
          ],
          "name": "stdout"
        },
        {
          "output_type": "execute_result",
          "data": {
            "text/html": [
              "<div>\n",
              "<style scoped>\n",
              "    .dataframe tbody tr th:only-of-type {\n",
              "        vertical-align: middle;\n",
              "    }\n",
              "\n",
              "    .dataframe tbody tr th {\n",
              "        vertical-align: top;\n",
              "    }\n",
              "\n",
              "    .dataframe thead th {\n",
              "        text-align: right;\n",
              "    }\n",
              "</style>\n",
              "<table border=\"1\" class=\"dataframe\">\n",
              "  <thead>\n",
              "    <tr style=\"text-align: right;\">\n",
              "      <th></th>\n",
              "      <th>param_SVM__kernel</th>\n",
              "      <th>param_SVM__C</th>\n",
              "      <th>mean_test_score</th>\n",
              "      <th>mean_fit_time</th>\n",
              "      <th>mean_score_time</th>\n",
              "    </tr>\n",
              "  </thead>\n",
              "  <tbody>\n",
              "    <tr>\n",
              "      <th>5</th>\n",
              "      <td>poly</td>\n",
              "      <td>10</td>\n",
              "      <td>0.985167</td>\n",
              "      <td>151.403805</td>\n",
              "      <td>57.376795</td>\n",
              "    </tr>\n",
              "    <tr>\n",
              "      <th>7</th>\n",
              "      <td>poly</td>\n",
              "      <td>100</td>\n",
              "      <td>0.985167</td>\n",
              "      <td>153.981053</td>\n",
              "      <td>57.455523</td>\n",
              "    </tr>\n",
              "    <tr>\n",
              "      <th>3</th>\n",
              "      <td>poly</td>\n",
              "      <td>1</td>\n",
              "      <td>0.984133</td>\n",
              "      <td>153.064651</td>\n",
              "      <td>55.753010</td>\n",
              "    </tr>\n",
              "    <tr>\n",
              "      <th>1</th>\n",
              "      <td>poly</td>\n",
              "      <td>0.1</td>\n",
              "      <td>0.970667</td>\n",
              "      <td>263.845512</td>\n",
              "      <td>79.912391</td>\n",
              "    </tr>\n",
              "    <tr>\n",
              "      <th>4</th>\n",
              "      <td>linear</td>\n",
              "      <td>10</td>\n",
              "      <td>0.941633</td>\n",
              "      <td>119.636093</td>\n",
              "      <td>52.653587</td>\n",
              "    </tr>\n",
              "    <tr>\n",
              "      <th>2</th>\n",
              "      <td>linear</td>\n",
              "      <td>1</td>\n",
              "      <td>0.939917</td>\n",
              "      <td>151.433372</td>\n",
              "      <td>66.311614</td>\n",
              "    </tr>\n",
              "    <tr>\n",
              "      <th>6</th>\n",
              "      <td>linear</td>\n",
              "      <td>100</td>\n",
              "      <td>0.933733</td>\n",
              "      <td>154.234085</td>\n",
              "      <td>46.046697</td>\n",
              "    </tr>\n",
              "    <tr>\n",
              "      <th>0</th>\n",
              "      <td>linear</td>\n",
              "      <td>0.1</td>\n",
              "      <td>0.927300</td>\n",
              "      <td>306.041010</td>\n",
              "      <td>110.010452</td>\n",
              "    </tr>\n",
              "  </tbody>\n",
              "</table>\n",
              "</div>"
            ],
            "text/plain": [
              "  param_SVM__kernel param_SVM__C  mean_test_score  mean_fit_time  \\\n",
              "5              poly           10         0.985167     151.403805   \n",
              "7              poly          100         0.985167     153.981053   \n",
              "3              poly            1         0.984133     153.064651   \n",
              "1              poly          0.1         0.970667     263.845512   \n",
              "4            linear           10         0.941633     119.636093   \n",
              "2            linear            1         0.939917     151.433372   \n",
              "6            linear          100         0.933733     154.234085   \n",
              "0            linear          0.1         0.927300     306.041010   \n",
              "\n",
              "   mean_score_time  \n",
              "5        57.376795  \n",
              "7        57.455523  \n",
              "3        55.753010  \n",
              "1        79.912391  \n",
              "4        52.653587  \n",
              "2        66.311614  \n",
              "6        46.046697  \n",
              "0       110.010452  "
            ]
          },
          "metadata": {
            "tags": []
          },
          "execution_count": 16
        }
      ]
    },
    {
      "cell_type": "markdown",
      "metadata": {
        "id": "CxdThQc7JvOr"
      },
      "source": [
        "## Εφαρμογή PCA\n",
        "*Στη συνέχεια, να εφαρμόσετε PCA στα δεδομένα επιλέγοντας 3 διαφορετικές τιμές\n",
        "για τη διατηρούμενη διακύμανση και για κάθε τιμή διακύμανσης εκτελέστε ξανά τη\n",
        "μέθοδο SVM χρησιμοποιώντας τις παραμέτρους που οδήγησαν στην καλύτερη\n",
        "επίδοση στο παραπάνω ερώτημα. Για κάθε εκτέλεση, αναφέρετε τον αριθμό των\n",
        "συνιστωσών (components) που διατηρούνται καθώς και την ακρίβειας ταξινόμησης.\n",
        "Επίσης, καταγράψτε τους χρόνους εκτέλεσης κάθε πειράματος και εξαγάγετε\n",
        "συμπεράσματα σχετικά με μια πιθανή αντιστάθμιση (trade-off) μεταξύ ακρίβειας\n",
        "ταξινόμησης, μείωσης διαστάσεων και χρόνου εκτέλεσης του αλγορίθμου.*\n",
        "<br>\n",
        "<br>\n",
        "Εάν θέλουμε η **διατηρούμενη διακύμανση** να είναι σε κάποιο συγκεκριμένο ποσοστό, ορίζουμε ως number_comp = %ζητούμενη_διακύμανση, αλλιώς εάν επιθυμούμε συγκεκριμένο αριθμό συνιστωσών θα πρέπει να ισχύει: number_comp>0\n",
        "\n",
        "\n"
      ]
    },
    {
      "cell_type": "code",
      "metadata": {
        "id": "B6pf0ceESAmL"
      },
      "source": [
        "def plot_variance(pca, number_comp):\n",
        "    cumExplainedVar=np.cumsum(pca.explained_variance_ratio_)\n",
        "    floor = np.max(cumExplainedVar)\n",
        "    max_components = np.argwhere((cumExplainedVar >= floor) & (cumExplainedVar < (floor+0.1*floor))).flatten()[0]\n",
        "    plt.figure(figsize=(16, 5))\n",
        "    plt.subplot(1, 2, 1)\n",
        "    plt.bar(range(number_comp),pca.explained_variance_ratio_[:number_comp])\n",
        "    plt.xlabel('Αριθμός Συνιστωσών')\n",
        "    plt.ylabel('Διατηρούμενη Διακύμανση');\n",
        "\n",
        "    plt.subplot(1, 2, 2)\n",
        "    for i in np.arange(0.8,0.9,0.001):\n",
        "        plt.axhline(y=i, color= \"whitesmoke\")\n",
        "    plt.plot(cumExplainedVar)\n",
        "    plt.plot(max_components,cumExplainedVar[max_components],'ro') \n",
        "    plt.xlabel('Αριθμός Συνιστωσών')\n",
        "    plt.ylabel('Συσσωρευτική Διατηρούμενη Διακύμανση');\n",
        "    plt.show()\n",
        "\n",
        "def PCA_nComponents(x_train, x_test, number_comp, grid, plot):\n",
        "    x_train_pca = PCA(n_components=number_comp, svd_solver='full').fit(x_train)\n",
        "    x_train_components = x_train_pca.transform(x_train)\n",
        "    x_test_pca = PCA(n_components=x_train_pca.n_components_, svd_solver='full').fit(x_test)\n",
        "    x_test_components = x_test_pca.transform(x_test)\n",
        "\n",
        "    if plot:\n",
        "        plot_variance(x_train_pca, x_train_pca.n_components_)\n",
        "\n",
        "    print (\"Components = \", x_train_pca.n_components_ ,\";\\nTotal explained variance = \", round(x_train_pca.explained_variance_ratio_.sum(),5)  )\n",
        "    dataset_ = [x_train_components, x_test_components, y_train, y_test]\n",
        "\n",
        "    fix_params = {}\n",
        "    for key, value in grid.best_params_.items():\n",
        "        d = {key:[value]}\n",
        "        fix_params.update(d)\n",
        "\n",
        "    grid_pca, dataset_subset = SVM_classifier(dataset=dataset_, per_train=set_per_train, per_test=set_per_test, params=fix_params)\n",
        "    joblib.dump(grid_pca, 'mnist_pca_svm_classifier.pkl')\n",
        "    # files.download('mnist_pca_svm_classifier.pkl')\n",
        "    # grid_pca = joblib.load(\"mnist_svm_classifier.pkl\")\n",
        "    print(\"Best score\", grid_pca.best_score_,\"with best parameters\", grid_pca.best_params_)\n",
        "    df = pd.DataFrame(grid_pca.cv_results_)\n",
        "    if 'param_SVM__gamma' in df.columns:\n",
        "        df = df[['param_SVM__kernel', 'param_SVM__C', 'param_SVM__gamma', 'mean_test_score', 'mean_fit_time', 'mean_score_time']]\n",
        "    else:\n",
        "        df = df[['param_SVM__kernel', 'param_SVM__C', 'mean_test_score', 'mean_fit_time', 'mean_score_time']]\n",
        "    df.sort_values(by=['mean_test_score'], ascending=False)"
      ],
      "execution_count": null,
      "outputs": []
    },
    {
      "cell_type": "markdown",
      "metadata": {
        "id": "8UjzpWGSs3mz"
      },
      "source": [
        "Εκτέλεση της PCA_nComponents(δεδομένα εκπαίδευσης, test δεδομένα, αριθμός συνιστωσών, το GridSearchCV της παραπάνω εκπαίδευσης, True ή False για την εκτύπωση γραφήματος). "
      ]
    },
    {
      "cell_type": "code",
      "metadata": {
        "colab": {
          "base_uri": "https://localhost:8080/",
          "height": 1000
        },
        "id": "fOkL12ERuf-k",
        "outputId": "348b6aae-1e26-497a-ce05-f039b9f8e3fb"
      },
      "source": [
        "PCA_nComponents(x_train, x_test, 0.40, grid, True)\n",
        "PCA_nComponents(x_train, x_test, 0.65, grid, True)\n",
        "PCA_nComponents(x_train, x_test, 0.90, grid, True)"
      ],
      "execution_count": null,
      "outputs": [
        {
          "output_type": "display_data",
          "data": {
            "image/png": "[encoded data removed]",
            "text/plain": [
              "<Figure size 1152x360 with 2 Axes>"
            ]
          },
          "metadata": {
            "tags": [],
            "needs_background": "light"
          }
        },
        {
          "output_type": "stream",
          "text": [
            "Components =  7 ;\n",
            "Total explained variance =  0.40812\n",
            "Training set size:  60000  - Test set size:  10000\n",
            "Score = 0.22\n",
            "Execution time 3.4092468778292337\n",
            "Best score 0.8646166666666666 with best parameters {'SVM__C': 10, 'SVM__kernel': 'poly'}\n"
          ],
          "name": "stdout"
        },
        {
          "output_type": "display_data",
          "data": {
            "image/png": "[encoded data removed]",
            "text/plain": [
              "<Figure size 1152x360 with 2 Axes>"
            ]
          },
          "metadata": {
            "tags": [],
            "needs_background": "light"
          }
        },
        {
          "output_type": "stream",
          "text": [
            "Components =  21 ;\n",
            "Total explained variance =  0.65424\n",
            "Training set size:  60000  - Test set size:  10000\n",
            "Score = 0.13\n",
            "Execution time 2.68569176197052\n",
            "Best score 0.9766166666666667 with best parameters {'SVM__C': 10, 'SVM__kernel': 'poly'}\n"
          ],
          "name": "stdout"
        },
        {
          "output_type": "display_data",
          "data": {
            "image/png": "[encoded data removed]",
            "text/plain": [
              "<Figure size 1152x360 with 2 Axes>"
            ]
          },
          "metadata": {
            "tags": [],
            "needs_background": "light"
          }
        },
        {
          "output_type": "stream",
          "text": [
            "Components =  87 ;\n",
            "Total explained variance =  0.90011\n",
            "Training set size:  60000  - Test set size:  10000\n",
            "Score = 0.13\n",
            "Execution time 9.064098803202311\n",
            "Best score 0.9868833333333333 with best parameters {'SVM__C': 10, 'SVM__kernel': 'poly'}\n"
          ],
          "name": "stdout"
        }
      ]
    },
    {
      "cell_type": "code",
      "metadata": {
        "colab": {
          "base_uri": "https://localhost:8080/",
          "height": 565
        },
        "id": "1kzClV7AGhNi",
        "outputId": "63122cd4-7fe5-4d72-86b5-dbd0917ac2f0"
      },
      "source": [
        "from google.colab import drive\n",
        "import sys\n",
        "drive.mount('/content/drive')\n",
        "pkl = \"/content/drive/MyDrive/ML/mnist_svm_classifier.pkl\"\n",
        "pkl_pca = \"/content/drive/MyDrive/ML/mnist_pca_svm_classifier.pkl\"\n",
        "\n",
        "grid = joblib.load(pkl)\n",
        "grid_pca = joblib.load(pkl_pca)\n",
        "print(\"--------> For Training set size:  12000  - Test set size:  2000 and linear, poly, rbf and C,gamma = 1, 10, 100\")\n",
        "print(\"Best score\", grid.best_score_,\"with best parameters\", grid.best_params_)\n",
        "df = pd.DataFrame(grid.cv_results_)\n",
        "if 'param_SVM__gamma' in df.columns:\n",
        "    df = df[['param_SVM__kernel', 'param_SVM__C', 'param_SVM__gamma', 'mean_test_score', 'mean_fit_time', 'mean_score_time']]\n",
        "else:\n",
        "    df = df[['param_SVM__kernel', 'param_SVM__C', 'mean_test_score', 'mean_fit_time', 'mean_score_time']]\n",
        "df.sort_values(by=['mean_test_score'], ascending=False)"
      ],
      "execution_count": null,
      "outputs": [
        {
          "output_type": "stream",
          "text": [
            "Drive already mounted at /content/drive; to attempt to forcibly remount, call drive.mount(\"/content/drive\", force_remount=True).\n",
            "--------> For Training set size:  12000  - Test set size:  2000 and linear, poly, rbf and C,gamma = 1, 10, 100\n",
            "Best score 0.9711666666666667 with best parameters {'SVM__C': 10, 'SVM__kernel': 'poly'}\n"
          ],
          "name": "stdout"
        },
        {
          "output_type": "execute_result",
          "data": {
            "text/html": [
              "<div>\n",
              "<style scoped>\n",
              "    .dataframe tbody tr th:only-of-type {\n",
              "        vertical-align: middle;\n",
              "    }\n",
              "\n",
              "    .dataframe tbody tr th {\n",
              "        vertical-align: top;\n",
              "    }\n",
              "\n",
              "    .dataframe thead th {\n",
              "        text-align: right;\n",
              "    }\n",
              "</style>\n",
              "<table border=\"1\" class=\"dataframe\">\n",
              "  <thead>\n",
              "    <tr style=\"text-align: right;\">\n",
              "      <th></th>\n",
              "      <th>param_SVM__kernel</th>\n",
              "      <th>param_SVM__C</th>\n",
              "      <th>param_SVM__gamma</th>\n",
              "      <th>mean_test_score</th>\n",
              "      <th>mean_fit_time</th>\n",
              "      <th>mean_score_time</th>\n",
              "    </tr>\n",
              "  </thead>\n",
              "  <tbody>\n",
              "    <tr>\n",
              "      <th>5</th>\n",
              "      <td>poly</td>\n",
              "      <td>10</td>\n",
              "      <td>NaN</td>\n",
              "      <td>0.971167</td>\n",
              "      <td>10.827205</td>\n",
              "      <td>3.162293</td>\n",
              "    </tr>\n",
              "    <tr>\n",
              "      <th>3</th>\n",
              "      <td>poly</td>\n",
              "      <td>1</td>\n",
              "      <td>NaN</td>\n",
              "      <td>0.969500</td>\n",
              "      <td>10.859758</td>\n",
              "      <td>3.085548</td>\n",
              "    </tr>\n",
              "    <tr>\n",
              "      <th>13</th>\n",
              "      <td>rbf</td>\n",
              "      <td>10</td>\n",
              "      <td>1</td>\n",
              "      <td>0.964333</td>\n",
              "      <td>9.367451</td>\n",
              "      <td>3.342008</td>\n",
              "    </tr>\n",
              "    <tr>\n",
              "      <th>10</th>\n",
              "      <td>rbf</td>\n",
              "      <td>1</td>\n",
              "      <td>1</td>\n",
              "      <td>0.955833</td>\n",
              "      <td>10.070767</td>\n",
              "      <td>3.393352</td>\n",
              "    </tr>\n",
              "    <tr>\n",
              "      <th>1</th>\n",
              "      <td>poly</td>\n",
              "      <td>0.1</td>\n",
              "      <td>NaN</td>\n",
              "      <td>0.944667</td>\n",
              "      <td>16.570929</td>\n",
              "      <td>4.075422</td>\n",
              "    </tr>\n",
              "    <tr>\n",
              "      <th>12</th>\n",
              "      <td>rbf</td>\n",
              "      <td>10</td>\n",
              "      <td>0.1</td>\n",
              "      <td>0.939833</td>\n",
              "      <td>6.962410</td>\n",
              "      <td>2.870550</td>\n",
              "    </tr>\n",
              "    <tr>\n",
              "      <th>2</th>\n",
              "      <td>linear</td>\n",
              "      <td>1</td>\n",
              "      <td>NaN</td>\n",
              "      <td>0.932000</td>\n",
              "      <td>7.347908</td>\n",
              "      <td>2.919110</td>\n",
              "    </tr>\n",
              "    <tr>\n",
              "      <th>4</th>\n",
              "      <td>linear</td>\n",
              "      <td>10</td>\n",
              "      <td>NaN</td>\n",
              "      <td>0.928167</td>\n",
              "      <td>5.223567</td>\n",
              "      <td>2.228071</td>\n",
              "    </tr>\n",
              "    <tr>\n",
              "      <th>7</th>\n",
              "      <td>rbf</td>\n",
              "      <td>0.1</td>\n",
              "      <td>1</td>\n",
              "      <td>0.919667</td>\n",
              "      <td>21.206935</td>\n",
              "      <td>5.310530</td>\n",
              "    </tr>\n",
              "    <tr>\n",
              "      <th>9</th>\n",
              "      <td>rbf</td>\n",
              "      <td>1</td>\n",
              "      <td>0.1</td>\n",
              "      <td>0.917000</td>\n",
              "      <td>14.780004</td>\n",
              "      <td>4.819524</td>\n",
              "    </tr>\n",
              "    <tr>\n",
              "      <th>0</th>\n",
              "      <td>linear</td>\n",
              "      <td>0.1</td>\n",
              "      <td>NaN</td>\n",
              "      <td>0.902833</td>\n",
              "      <td>17.521289</td>\n",
              "      <td>5.047727</td>\n",
              "    </tr>\n",
              "    <tr>\n",
              "      <th>14</th>\n",
              "      <td>rbf</td>\n",
              "      <td>10</td>\n",
              "      <td>10</td>\n",
              "      <td>0.859667</td>\n",
              "      <td>51.416728</td>\n",
              "      <td>7.035161</td>\n",
              "    </tr>\n",
              "    <tr>\n",
              "      <th>11</th>\n",
              "      <td>rbf</td>\n",
              "      <td>1</td>\n",
              "      <td>10</td>\n",
              "      <td>0.852167</td>\n",
              "      <td>51.208838</td>\n",
              "      <td>7.026770</td>\n",
              "    </tr>\n",
              "    <tr>\n",
              "      <th>6</th>\n",
              "      <td>rbf</td>\n",
              "      <td>0.1</td>\n",
              "      <td>0.1</td>\n",
              "      <td>0.806500</td>\n",
              "      <td>38.435451</td>\n",
              "      <td>7.058010</td>\n",
              "    </tr>\n",
              "    <tr>\n",
              "      <th>8</th>\n",
              "      <td>rbf</td>\n",
              "      <td>0.1</td>\n",
              "      <td>10</td>\n",
              "      <td>0.179000</td>\n",
              "      <td>50.770108</td>\n",
              "      <td>7.521460</td>\n",
              "    </tr>\n",
              "  </tbody>\n",
              "</table>\n",
              "</div>"
            ],
            "text/plain": [
              "   param_SVM__kernel param_SVM__C  ... mean_fit_time  mean_score_time\n",
              "5               poly           10  ...     10.827205         3.162293\n",
              "3               poly            1  ...     10.859758         3.085548\n",
              "13               rbf           10  ...      9.367451         3.342008\n",
              "10               rbf            1  ...     10.070767         3.393352\n",
              "1               poly          0.1  ...     16.570929         4.075422\n",
              "12               rbf           10  ...      6.962410         2.870550\n",
              "2             linear            1  ...      7.347908         2.919110\n",
              "4             linear           10  ...      5.223567         2.228071\n",
              "7                rbf          0.1  ...     21.206935         5.310530\n",
              "9                rbf            1  ...     14.780004         4.819524\n",
              "0             linear          0.1  ...     17.521289         5.047727\n",
              "14               rbf           10  ...     51.416728         7.035161\n",
              "11               rbf            1  ...     51.208838         7.026770\n",
              "6                rbf          0.1  ...     38.435451         7.058010\n",
              "8                rbf          0.1  ...     50.770108         7.521460\n",
              "\n",
              "[15 rows x 6 columns]"
            ]
          },
          "metadata": {
            "tags": []
          },
          "execution_count": 6
        }
      ]
    },
    {
      "cell_type": "code",
      "metadata": {
        "colab": {
          "base_uri": "https://localhost:8080/",
          "height": 97
        },
        "id": "bfof_cvyIMlu",
        "outputId": "47b76bb5-1dfe-401e-e0a1-38b57f05f877"
      },
      "source": [
        "print(\"Best score\", grid_pca.best_score_,\"with best parameters\", grid_pca.best_params_)\n",
        "df = pd.DataFrame(grid_pca.cv_results_)\n",
        "if 'param_SVM__gamma' in df.columns:\n",
        "    df = df[['param_SVM__kernel', 'param_SVM__C', 'param_SVM__gamma', 'mean_test_score', 'mean_fit_time', 'mean_score_time']]\n",
        "else:\n",
        "    df = df[['param_SVM__kernel', 'param_SVM__C', 'mean_test_score', 'mean_fit_time', 'mean_score_time']]\n",
        "df.sort_values(by=['mean_test_score'], ascending=False)"
      ],
      "execution_count": null,
      "outputs": [
        {
          "output_type": "stream",
          "text": [
            "Best score 0.9713333333333333 with best parameters {'SVM__C': 10, 'SVM__kernel': 'poly'}\n"
          ],
          "name": "stdout"
        },
        {
          "output_type": "execute_result",
          "data": {
            "text/html": [
              "<div>\n",
              "<style scoped>\n",
              "    .dataframe tbody tr th:only-of-type {\n",
              "        vertical-align: middle;\n",
              "    }\n",
              "\n",
              "    .dataframe tbody tr th {\n",
              "        vertical-align: top;\n",
              "    }\n",
              "\n",
              "    .dataframe thead th {\n",
              "        text-align: right;\n",
              "    }\n",
              "</style>\n",
              "<table border=\"1\" class=\"dataframe\">\n",
              "  <thead>\n",
              "    <tr style=\"text-align: right;\">\n",
              "      <th></th>\n",
              "      <th>param_SVM__kernel</th>\n",
              "      <th>param_SVM__C</th>\n",
              "      <th>mean_test_score</th>\n",
              "      <th>mean_fit_time</th>\n",
              "      <th>mean_score_time</th>\n",
              "    </tr>\n",
              "  </thead>\n",
              "  <tbody>\n",
              "    <tr>\n",
              "      <th>0</th>\n",
              "      <td>poly</td>\n",
              "      <td>10</td>\n",
              "      <td>0.971333</td>\n",
              "      <td>2.097583</td>\n",
              "      <td>0.376625</td>\n",
              "    </tr>\n",
              "  </tbody>\n",
              "</table>\n",
              "</div>"
            ],
            "text/plain": [
              "  param_SVM__kernel param_SVM__C  ...  mean_fit_time  mean_score_time\n",
              "0              poly           10  ...       2.097583         0.376625\n",
              "\n",
              "[1 rows x 5 columns]"
            ]
          },
          "metadata": {
            "tags": []
          },
          "execution_count": 7
        }
      ]
    },
    {
      "cell_type": "markdown",
      "metadata": {
        "id": "ToSDEbqkqbKP"
      },
      "source": [
        "## Συμπεράσματα\n",
        "\n",
        "\n",
        "*   Για το πρώτο κομμάτι, ο SVM εκπαιδεύτηκε για το 100% του συνόλου δεδομένων με τις εξής παραμέτρους: kernel = linear,poly,rbf(20% του συνόλου δεδομένων) | C = 1, 10, 100 (0.1,1,10 για το 20% του συνόλου δεδομένων) | gamma(μόνο για rbf) = 0.1,1,10. Σύμφωνα με το GridSearchCV, οι παράμετροι με την καλύτερη απόδοση είναι: {'SVM__C': 10, 'SVM__kernel': 'poly'}. Παρατηρούμε πως καλύτερη Kernel Function είναι η poly, το οποίο σημαίνει πως τα δεδομένα ταξινομούνται καλύτερα με πολυωνυμική συνάρτηση. Σχετικά με την υπερπαράμετρο C, η οποία ελέγχει το σφάλμα, όταν επιλέγουμε μικρή τιμή, συνήθως έχουμε χαμηλό σφάλμα, κάτι το οποίο δεν σημαίνει και καλό decision boundary και αντίστοιχα για υψηλό C, έχουμε υψηλό σφάλμα. Για το συγκεκριμένο dataset η ιδανική τιμή για το C είναι το 10. Το $\\gamma$ ρυθμίζει την καμπυλότητα του ορίου απόφασης (decision boundary). Έτσι, όταν επιλέγουμε μικρό $\\gamma$ έχουμε λιγότερη καμπυλότητα στο decision boundary και όταν επιλέγουμε υψηλό $\\gamma$ έχουμε περισσότερη καμπυλότητα. Η τιμή 1 για το $\\gamma$ επιτυγχάνει την καλύτερη ακρίβεια, όταν χρησιμοποιούμε την rbf function. Ο χρόνος εκπαίδευσης κυμαίνεται από 151 έως 306 δευτερόλεπτα (μέσος όρος) ανάλογα την επιλογή του kernel και παρατηρούμε πως για μικρό C ο χρόνος είναι μεγαλύτερος.\n",
        "\n",
        "*   Με την εφαρμογή του PCA και τη μείωση διαστάσεων, παρατηρούμε πως η διατηρούμενη διακύμανση αυξάνεται με περισσότερο ρυθμό για <60 συνιστώσες, ενώ για παραπάνω συνιστώσες μειώνεται ο ρυθμός αύξησης. Για 87 συνιστώσες επιτυγχάνουμε καλύτερο Cross-validated score (of the best_estimator) 0.98 με τις παραμέτρους {'SVM__C': 10, 'SVM__kernel': 'poly'}"
      ]
    },
    {
      "cell_type": "markdown",
      "metadata": {
        "id": "Nsu1rUfxuD_k"
      },
      "source": [
        "## Πηγές\n",
        "* [Support Vector Machines](https://scikit-learn.org/stable/modules/svm.html)\n",
        "* [Multiclass Classification with Support Vector Machines (SVM), Dual Problem and Kernel Functions](https://towardsdatascience.com/multiclass-classification-with-support-vector-machines-svm-kernel-trick-kernel-functions-f9d5377d6f02)\n",
        "* [sklearn.preprocessing.Normalizer](https://scikit-learn.org/stable/modules/generated/sklearn.preprocessing.Normalizer.html)\n",
        "* [Explained variance in PCA](https://https://ro-che.info/articles/2017-12-11-pca-explained-variance)\n",
        "\n",
        "\n"
      ]
    }
  ]
}